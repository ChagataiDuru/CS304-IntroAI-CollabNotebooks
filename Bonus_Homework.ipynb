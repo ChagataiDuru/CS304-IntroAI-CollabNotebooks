{
  "nbformat": 4,
  "nbformat_minor": 0,
  "metadata": {
    "colab": {
      "provenance": [],
      "authorship_tag": "ABX9TyMCAMvBPfJV0Qxi+upmk2ZJ",
      "include_colab_link": true
    },
    "kernelspec": {
      "name": "python3",
      "display_name": "Python 3"
    },
    "language_info": {
      "name": "python"
    }
  },
  "cells": [
    {
      "cell_type": "markdown",
      "metadata": {
        "id": "view-in-github",
        "colab_type": "text"
      },
      "source": [
        "<a href=\"https://colab.research.google.com/github/ChagataiDuru/CS304-IntroAI-CollabNotebooks/blob/main/Bonus_Homework.ipynb\" target=\"_parent\"><img src=\"https://colab.research.google.com/assets/colab-badge.svg\" alt=\"Open In Colab\"/></a>"
      ]
    },
    {
      "cell_type": "markdown",
      "source": [
        "Given the 2D data points $(1,1)$, $(2,2)$, and $(3,3)$:\n",
        "\n",
        "1. Determine the first principal component by finding the covariance matrix, eigenvectors, and eigenvalues.\n",
        "\n",
        "2. Calculate the variance of the data when projected onto the principal component.\n",
        "\n",
        "3. Compute the reconstruction error when the projected 1D data is represented back in the original 2D space."
      ],
      "metadata": {
        "id": "Wqn1PUMztzB8"
      }
    },
    {
      "cell_type": "code",
      "source": [],
      "metadata": {
        "id": "siTa17-Zt1xj"
      },
      "execution_count": null,
      "outputs": []
    }
  ]
}