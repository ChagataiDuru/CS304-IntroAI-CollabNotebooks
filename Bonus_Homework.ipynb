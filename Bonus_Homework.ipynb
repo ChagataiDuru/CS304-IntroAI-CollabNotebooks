{
  "nbformat": 4,
  "nbformat_minor": 0,
  "metadata": {
    "colab": {
      "provenance": [],
      "authorship_tag": "ABX9TyMsc3fKo/pH5TSi/9/qj46r",
      "include_colab_link": true
    },
    "kernelspec": {
      "name": "python3",
      "display_name": "Python 3"
    },
    "language_info": {
      "name": "python"
    }
  },
  "cells": [
    {
      "cell_type": "markdown",
      "metadata": {
        "id": "view-in-github",
        "colab_type": "text"
      },
      "source": [
        "<a href=\"https://colab.research.google.com/github/ChagataiDuru/CS304-IntroAI-CollabNotebooks/blob/main/Bonus_Homework.ipynb\" target=\"_parent\"><img src=\"https://colab.research.google.com/assets/colab-badge.svg\" alt=\"Open In Colab\"/></a>"
      ]
    },
    {
      "cell_type": "markdown",
      "source": [
        "# Question:\n",
        "Given the 2D data points $(1,1)$, $(2,2)$, and $(3,3)$:\n",
        "\n",
        "Part a.) Determine the first principal component by finding the covariance matrix, eigenvectors, and eigenvalues.\n",
        "\n",
        "Part b.) Calculate the variance of the data when projected onto the principal component.\n",
        "\n",
        "Part c.) Compute the reconstruction error when the projected 1D data is represented back in the original 2D space."
      ],
      "metadata": {
        "id": "Wqn1PUMztzB8"
      }
    },
    {
      "cell_type": "code",
      "source": [
        "import matplotlib.pyplot as plt\n",
        "import numpy as np\n",
        "\n",
        "# Define the data points\n",
        "data_points = np.array([[1, 1], [2, 2], [3, 3]])\n",
        "\n",
        "# Separate the data into x and y coordinates\n",
        "x = data_points[:, 0]\n",
        "y = data_points[:, 1]\n",
        "\n",
        "# Plot the data points\n",
        "plt.figure(figsize=(6, 6))\n",
        "plt.scatter(x, y, color='blue', label='Data points')\n",
        "x_vals = np.linspace(0, 4, 100)\n",
        "y_vals = x_vals\n",
        "plt.plot(x_vals, y_vals, color='cyan', linestyle='--', linewidth=1, label='Connecting line')\n",
        "plt.xlim(0, 4)\n",
        "plt.ylim(0, 4)\n",
        "plt.xlabel('X1 axis')\n",
        "plt.ylabel('X2 axis')\n",
        "plt.title('2D Data Points')\n",
        "plt.grid(True)\n",
        "plt.axhline(0, color='black', linewidth=0.5)\n",
        "plt.axvline(0, color='black', linewidth=0.5)\n",
        "plt.legend()\n",
        "plt.show()\n"
      ],
      "metadata": {
        "colab": {
          "base_uri": "https://localhost:8080/",
          "height": 564
        },
        "id": "siTa17-Zt1xj",
        "outputId": "d9d277db-7364-4d68-e08f-561230185f73"
      },
      "execution_count": 1,
      "outputs": [
        {
          "output_type": "display_data",
          "data": {
            "text/plain": [
              "<Figure size 600x600 with 1 Axes>"
            ],
            "image/png": "[encoded data removed]"
          },
          "metadata": {}
        }
      ]
    },
    {
      "cell_type": "markdown",
      "source": [
        "# Part a) Determine the first principal component\n",
        "\n",
        "## Step 1: Subtract the mean (Center the data)\n",
        "\n",
        "Given data points:\n",
        "\n",
        "$$(1,1), (2,2), (3,3)$$\n",
        "\n",
        "\n",
        "Calculate the mean of the data:\n",
        "\n",
        "$$\\text{Mean} = \\left( \\frac{1+2+3}{3}, \\frac{1+2+3}{3} \\right) = (2, 2)$$\n",
        "\n",
        "\n",
        "Center the data by subtracting the mean:\n",
        "\n",
        "$$(1-2, 1-2) = (-1, -1)$$\n",
        "\n",
        "\n",
        "$$(2-2, 2-2) = (0, 0)$$\n",
        "\n",
        "\n",
        "$$(3-2, 3-2) = (1, 1)$$\n",
        "\n",
        "\n",
        "Centered data:\n",
        "\n",
        "$$(-1, -1), (0, 0), (1, 1)$$\n",
        "\n"
      ],
      "metadata": {
        "id": "nVXYcKRBxseh"
      }
    },
    {
      "cell_type": "code",
      "source": [
        "# Given data points\n",
        "data = np.array([[1, 1], [2, 2], [3, 3]])\n",
        "\n",
        "# Calculate the mean of the data\n",
        "mean = np.mean(data, axis=0)\n",
        "\n",
        "# Center the data by subtracting the mean\n",
        "centered_data = data - mean\n",
        "\n",
        "print(\"Centered data:\")\n",
        "print(centered_data)"
      ],
      "metadata": {
        "colab": {
          "base_uri": "https://localhost:8080/"
        },
        "id": "FpMVtidjuiu0",
        "outputId": "ebe6333e-d2aa-4f08-8593-7df3e65a683a"
      },
      "execution_count": 2,
      "outputs": [
        {
          "output_type": "stream",
          "name": "stdout",
          "text": [
            "Centered data:\n",
            "[[-1. -1.]\n",
            " [ 0.  0.]\n",
            " [ 1.  1.]]\n"
          ]
        }
      ]
    },
    {
      "cell_type": "markdown",
      "source": [
        "## Step 2: Calculate the covariance matrix\n",
        "\n",
        "The formula for the covariance matrix is:\n",
        "\n",
        "$\\Sigma = \\frac{1}{n-1} X^T X$\n",
        "\n",
        "Where \\( X \\) is the matrix of centered data points:\n",
        "\\[\n",
        "$$X = \\begin{pmatrix}\n",
        "-1 & -1 \\\\\n",
        "0 & 0 \\\\\n",
        "1 & 1 \\\\\n",
        "\\end{pmatrix}$$\n",
        "\\]\n",
        "\n",
        "The covariance matrix:\n",
        "\n",
        "$$\\Sigma = \\frac{1}{3-1} \\begin{pmatrix}\n",
        "-1 & 0 & 1 \\\\\n",
        "-1 & 0 & 1 \\\\\n",
        "\\end{pmatrix}\n",
        "\\begin{pmatrix}\n",
        "-1 & -1 \\\\\n",
        "0 & 0 \\\\\n",
        "1 & 1 \\\\\n",
        "\\end{pmatrix}$$\n",
        "$$= \\frac{1}{2} \\begin{pmatrix}\n",
        "2 & 2 \\\\\n",
        "2 & 2 \\\\\n",
        "\\end{pmatrix}$$\n",
        "$$= \\begin{pmatrix}\n",
        "1 & 1 \\\\\n",
        "1 & 1 \\\\\n",
        "\\end{pmatrix}$$\n",
        "\n"
      ],
      "metadata": {
        "id": "KurknbuOyIE6"
      }
    },
    {
      "cell_type": "code",
      "source": [
        "# Calculate the covariance matrix\n",
        "cov_matrix = np.cov(centered_data, rowvar=False)\n",
        "\n",
        "print(\"Covariance matrix:\")\n",
        "print(cov_matrix)"
      ],
      "metadata": {
        "colab": {
          "base_uri": "https://localhost:8080/"
        },
        "id": "mKVuTmT4y7Xy",
        "outputId": "4b585ad2-1feb-4a42-da80-8fe5545c8e18"
      },
      "execution_count": 3,
      "outputs": [
        {
          "output_type": "stream",
          "name": "stdout",
          "text": [
            "Covariance matrix:\n",
            "[[1. 1.]\n",
            " [1. 1.]]\n"
          ]
        }
      ]
    },
    {
      "cell_type": "markdown",
      "source": [
        "## Step 3: Find eigenvectors and eigenvalues\n",
        "\n",
        "Solve for λ  in \\( $$\\text{det}(\\Sigma - \\lambda I) = 0 \\$$):\n",
        "\n",
        "\n",
        "$$\\Sigma - \\lambda I = \\begin{pmatrix}\n",
        "1-\\lambda & 1 \\\\\n",
        "1 & 1-\\lambda \\\\\n",
        "\\end{pmatrix}$$\n",
        "\n",
        "$$\\text{det}(\\Sigma - \\lambda I) = (1-\\lambda)^2 - 1 = 0$$\n",
        "\n",
        "$$\\lambda^2 - 2\\lambda = 0$$\n",
        "\n",
        "$$\\lambda (\\lambda - 2) = 0$$\n",
        "\n",
        "Eigenvalues:\n",
        "\n",
        "$$\\lambda_1 = 2, \\quad \\lambda_2 = 0$$\n",
        "\n",
        "Find eigenvectors $$ v $$ by solving $$(\\Sigma - \\lambda I) v = 0$$:\n",
        "\n",
        "For $$\\lambda_1 = 2 $$:\n",
        "\n",
        "$$\\begin{pmatrix}\n",
        "-1 & 1 \\\\\n",
        "1 & -1 \\\\\n",
        "\\end{pmatrix}\n",
        "\\begin{pmatrix}\n",
        "v_1 \\\\\n",
        "v_2 \\\\\n",
        "\\end{pmatrix}\n",
        "= 0$$\n",
        "\n",
        "\n",
        "This simplifies to:\n",
        "\n",
        "$$v_1 = v_2$$\n",
        "\n",
        "\n",
        "Normalized eigenvector for \\( $$\\lambda_1 = 2 \\$$):\n",
        "\n",
        "$$v = \\frac{1}{\\sqrt{2}} \\begin{pmatrix}\n",
        "1 \\\\\n",
        "1 \\\\\n",
        "\\end{pmatrix}$$\n",
        "\n",
        "\n",
        "So, the first principal component is:\n",
        "\n",
        "$$\\mathbf{PC1} = \\frac{1}{\\sqrt{2}} (1, 1)$$\n"
      ],
      "metadata": {
        "id": "ZfrU_4C0zEs1"
      }
    },
    {
      "cell_type": "code",
      "source": [
        "# Calculate eigenvectors and eigenvalues\n",
        "eigenvalues, eigenvectors = np.linalg.eig(cov_matrix)\n",
        "\n",
        "print(\"Eigenvalues:\")\n",
        "print(eigenvalues)\n",
        "\n",
        "print(\"Eigenvectors:\")\n",
        "print(eigenvectors)\n",
        "\n",
        "# First principal component\n",
        "pc1 = eigenvectors[:, np.argmax(eigenvalues)]\n",
        "print(\"First principal component (PC1):\")\n",
        "print(pc1)"
      ],
      "metadata": {
        "colab": {
          "base_uri": "https://localhost:8080/"
        },
        "id": "GoMtusE2zFO7",
        "outputId": "3433de22-e990-4c19-be58-7f0a754d0e3b"
      },
      "execution_count": 4,
      "outputs": [
        {
          "output_type": "stream",
          "name": "stdout",
          "text": [
            "Eigenvalues:\n",
            "[2. 0.]\n",
            "Eigenvectors:\n",
            "[[ 0.70710678 -0.70710678]\n",
            " [ 0.70710678  0.70710678]]\n",
            "First principal component (PC1):\n",
            "[0.70710678 0.70710678]\n"
          ]
        }
      ]
    },
    {
      "cell_type": "markdown",
      "source": [
        "# Part b) Calculate the variance of the data when projected onto the principal component\n",
        "\n",
        "Projection of data points onto $$ \\mathbf{PC1} $$:\n",
        "\n",
        "$$(-1, -1) \\cdot \\frac{1}{\\sqrt{2}}(1, 1) = -\\sqrt{2}$$\n",
        "\n",
        "$$(0, 0) \\cdot \\frac{1}{\\sqrt{2}}(1, 1) = 0$$\n",
        "\n",
        "$$(1, 1) \\cdot \\frac{1}{\\sqrt{2}}(1, 1) = \\sqrt{2}$$\n",
        "\n",
        "\n",
        "Projected data: $$ -\\sqrt{2}, 0, \\sqrt{2} $$\n",
        "\n",
        "Variance of projected data:\n",
        "\n",
        "$$\\text{Variance} = \\frac{1}{n-1} \\sum (x_i - \\mu)^2$$\n",
        "\n",
        "\n",
        "Mean of projected data: $$ \\mu = 0 $$\n",
        "\n",
        "$$\\text{Variance} = \\frac{1}{2} \\left( (-\\sqrt{2})^2 + 0^2 + (\\sqrt{2})^2 \\right) = \\frac{1}{2} \\left( 2 + 0 + 2 \\right) = 2$$\n"
      ],
      "metadata": {
        "id": "CcfpPMcgzNYF"
      }
    },
    {
      "cell_type": "code",
      "source": [
        "# Project the data onto the first principal component\n",
        "projected_data = centered_data.dot(pc1)\n",
        "\n",
        "print(\"Projected data:\")\n",
        "print(projected_data)\n",
        "\n",
        "# Calculate the variance of the projected data\n",
        "variance = np.var(projected_data, ddof=1)\n",
        "\n",
        "print(\"Variance of the projected data:\")\n",
        "print(variance)"
      ],
      "metadata": {
        "colab": {
          "base_uri": "https://localhost:8080/"
        },
        "id": "4DWXxiBpzOO0",
        "outputId": "a76eac25-8928-4f95-dcd5-d6d73ff79895"
      },
      "execution_count": 5,
      "outputs": [
        {
          "output_type": "stream",
          "name": "stdout",
          "text": [
            "Projected data:\n",
            "[-1.41421356  0.          1.41421356]\n",
            "Variance of the projected data:\n",
            "1.9999999999999996\n"
          ]
        }
      ]
    },
    {
      "cell_type": "markdown",
      "source": [
        "# Part c) Compute the reconstruction error\n",
        "\n",
        "Reconstruction in the original 2D space involves projecting the 1D data back:\n",
        "\n",
        "Original data $$ (x, y) $$:\n",
        "\n",
        "$$(-\\sqrt{2}) \\cdot \\frac{1}{\\sqrt{2}}(1, 1) = (-1, -1)$$\n",
        "\n",
        "\n",
        "$$(0) \\cdot \\frac{1}{\\sqrt{2}}(1, 1) = (0, 0)$$\n",
        "\n",
        "\n",
        "$$(\\sqrt{2}) \\cdot \\frac{1}{\\sqrt{2}}(1, 1) = (1, 1)$$\n",
        "\n",
        "\n",
        "Reconstructed data: $$ (-1, -1), (0, 0), (1, 1) $$\n",
        "\n",
        "The reconstruction error is the distance between original and reconstructed data:\n",
        "\n",
        "$$\\sum \\left( (x_i - \\hat{x_i})^2 + (y_i - \\hat{y_i})^2 \\right)$$\n",
        "\n",
        "\n",
        "However, since the reconstructed points match the centered original points, the reconstruction error is zero.\n"
      ],
      "metadata": {
        "id": "zRj4_-G4zYNl"
      }
    },
    {
      "cell_type": "code",
      "source": [
        "# Reconstruct the data from the projected data\n",
        "reconstructed_data = np.outer(projected_data, pc1)\n",
        "\n",
        "print(\"Reconstructed data:\")\n",
        "print(reconstructed_data)\n",
        "\n",
        "# Compute the reconstruction error\n",
        "reconstruction_error = np.sum((centered_data - reconstructed_data) ** 2)\n",
        "\n",
        "print(\"Reconstruction error:\")\n",
        "print(reconstruction_error)"
      ],
      "metadata": {
        "colab": {
          "base_uri": "https://localhost:8080/"
        },
        "id": "9iwYeqbizbhV",
        "outputId": "4fc79354-1abf-466f-b340-c0c869ba5ce6"
      },
      "execution_count": 6,
      "outputs": [
        {
          "output_type": "stream",
          "name": "stdout",
          "text": [
            "Reconstructed data:\n",
            "[[-1. -1.]\n",
            " [ 0.  0.]\n",
            " [ 1.  1.]]\n",
            "Reconstruction error:\n",
            "1.9721522630525295e-31\n"
          ]
        }
      ]
    }
  ]
}