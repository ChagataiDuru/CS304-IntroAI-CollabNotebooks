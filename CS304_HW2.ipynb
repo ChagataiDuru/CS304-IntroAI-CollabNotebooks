{
  "nbformat": 4,
  "nbformat_minor": 0,
  "metadata": {
    "colab": {
      "provenance": [],
      "authorship_tag": "ABX9TyOJ4cUvET2N/LtBcNs5zsy/",
      "include_colab_link": true
    },
    "kernelspec": {
      "name": "python3",
      "display_name": "Python 3"
    },
    "language_info": {
      "name": "python"
    }
  },
  "cells": [
    {
      "cell_type": "markdown",
      "metadata": {
        "id": "view-in-github",
        "colab_type": "text"
      },
      "source": [
        "<a href=\"https://colab.research.google.com/github/ChagataiDuru/CS304-IntroAI-CollabNotebooks/blob/main/CS304_HW2.ipynb\" target=\"_parent\"><img src=\"https://colab.research.google.com/assets/colab-badge.svg\" alt=\"Open In Colab\"/></a>"
      ]
    },
    {
      "cell_type": "markdown",
      "source": [
        "# Homework 2"
      ],
      "metadata": {
        "id": "AVKY9jviPFqU"
      }
    },
    {
      "cell_type": "code",
      "execution_count": 4,
      "metadata": {
        "colab": {
          "base_uri": "https://localhost:8080/"
        },
        "id": "GrR-CcusOa4M",
        "outputId": "6e23fb34-e804-4519-8d0c-f46c2b99b48c"
      },
      "outputs": [
        {
          "output_type": "stream",
          "name": "stdout",
          "text": [
            "Drive already mounted at /content/drive; to attempt to forcibly remount, call drive.mount(\"/content/drive\", force_remount=True).\n",
            "\n",
            "Both /content/drive/MyDrive/Colab Notebooks/CS304/HW2/features_train.txt and /content/drive/MyDrive/Colab Notebooks/CS304/HW2/features_test.txt exists.\n"
          ]
        }
      ],
      "source": [
        "# Importing Necessary Libraries and File for Part 2 soft-margin SVM to handwritten digits\n",
        "from os.path import exists\n",
        "import itertools as itertools\n",
        "\n",
        "import pandas as pd\n",
        "import matplotlib.pyplot as plt\n",
        "import numpy as np\n",
        "\n",
        "from google.colab import drive\n",
        "drive.mount('/content/drive')\n",
        "\n",
        "train_data = \"/content/drive/MyDrive/Colab Notebooks/CS304/HW2/features_train.txt\"\n",
        "test_data = \"/content/drive/MyDrive/Colab Notebooks/CS304/HW2/features_test.txt\"\n",
        "\n",
        "# - Supress all warnings (Optional)\n",
        "import warnings\n",
        "warnings.simplefilter(action='ignore',\n",
        "                      category=FutureWarning)\n",
        "if exists(train_data) and exists(test_data):\n",
        "    print(f\"\\nBoth {train_data} and {test_data} exists.\")\n",
        "else:\n",
        "    print(\"Please set directory to read the files\")\n",
        "\n",
        "from sklearn.svm import SVC\n"
      ]
    },
    {
      "cell_type": "markdown",
      "source": [
        "## Part 1 #\n",
        "Consider the nonlinear error surface $E(u, v)=\\left(u e^{v}-2 v e^{-u}\\right)^{2}$. We start at the point $$(u, v)=(1,1)$$ and minimize this error using gradient descent in the $u v$ space. Use $$\\eta=0.1$$ (learning rate, not step size).\n",
        "## Question 1 ##\n",
        "What is the partial derivative of $E(u, v)$ with respect to $u$, i.e., $\\frac{\\partial E}{\\partial u}$ ?\n",
        "\n",
        "**Answer:**\n",
        "\n",
        "**Error Surface:**\n",
        "\n",
        "$$E(u, v) = \\left(u e^{v}-2 v e^{-u}\\right)^{2}$$\n",
        "\n",
        "**Partial Derivative with Respect to u:**\n",
        "\n",
        "$$\\frac{\\partial E}{\\partial u} = 2\\left(e^{v}+2 v e^{-u}\\right)\\left(u e^{v}-2 v e^{-u}\\right)$$"
      ],
      "metadata": {
        "id": "DxwGV5ZoPHhD"
      }
    },
    {
      "cell_type": "markdown",
      "source": [
        "##Question 2##\n",
        "How many iterations (among given choices) does it take for the error $E(u, v)$ to fall below $10^{-14}$ for the first time? In your programs, make sure to use double precision to get the needed accuracy.\n",
        "\n",
        "(a) 1\n",
        "\n",
        "(b) 3\n",
        "\n",
        "(c) 5\n",
        "\n",
        "(d) 10\n",
        "\n",
        "(e) 17\n",
        "\n",
        "**Answer: d**\n",
        "\n",
        "##Question 2##\n",
        "After running enough iterations such that the error has just dropped below $10^{-14}$, what are the closest values (in Euclidean distance) among the following choices to the final $(u, v)$ you got in problem 2 ?\n",
        "\n",
        "(a) $(1.000,1.000)$\n",
        "\n",
        "(b) $(0.713,0.045)$\n",
        "\n",
        "(c) $(0.016,0.112)$\n",
        "\n",
        "(d) $(-0.083,0.029)$\n",
        "\n",
        "(e) $(0.045,0.024)$\n",
        "\n",
        "\n",
        "**Answer: e**\n",
        "\n",
        "### Below the code ###"
      ],
      "metadata": {
        "id": "NyEHhvaCbsl3"
      }
    },
    {
      "cell_type": "code",
      "source": [
        "def error_surface(u, v):\n",
        "    return (u * np.exp(v) - 2 * v * np.exp(-u))**2\n",
        "\n",
        "def dE_du(u, v):\n",
        "    return 2 * (np.exp(v) + 2 * v * np.exp(-u)) * (u * np.exp(v) - 2 * v * np.exp(-u))\n",
        "\n",
        "def dE_dv(u, v):\n",
        "    return 2 * u * np.exp(v) * (u * np.exp(v) - 2 * v * np.exp(-u))\n",
        "\n",
        "def gradient_descent(E, dE_du, dE_dv, u_0, v_0, learning_rate = 0.1,\n",
        "                     stopping_threshold = 1e-14):\n",
        "    u = u_0\n",
        "    v = v_0\n",
        "    iterations = 0\n",
        "\n",
        "    while E(u, v) >= stopping_threshold:\n",
        "        u_new = u - learning_rate * dE_du(u, v)\n",
        "        v_new = v - learning_rate * dE_dv(u, v)\n",
        "        u = u_new\n",
        "        v = v_new\n",
        "        iterations += 1\n",
        "\n",
        "    return u, v, iterations\n",
        "\n",
        "u_0 = 1\n",
        "v_0 = 1\n",
        "eta = 0.1\n",
        "threshold = 10**(-14)\n",
        "\n",
        "final_u, final_v, iterations = gradient_descent(error_surface, dE_du, dE_dv, u_0, v_0, eta, threshold)\n",
        "\n",
        "print(\"Final values (u, v): \", final_u, final_v)\n",
        "print(\"Iterations to converge: \", iterations)\n"
      ],
      "metadata": {
        "colab": {
          "base_uri": "https://localhost:8080/"
        },
        "id": "Dk9h3GXVdG1u",
        "outputId": "ae055b50-1dcf-4bc5-e4ed-9dc39dc5098f"
      },
      "execution_count": 5,
      "outputs": [
        {
          "output_type": "stream",
          "name": "stdout",
          "text": [
            "Final values (u, v):  -0.3153488929785157 -0.10369822395113008\n",
            "Iterations to converge:  49\n"
          ]
        }
      ]
    },
    {
      "cell_type": "code",
      "source": [],
      "metadata": {
        "id": "Okxh5-vqe2Tp"
      },
      "execution_count": null,
      "outputs": []
    }
  ]
}