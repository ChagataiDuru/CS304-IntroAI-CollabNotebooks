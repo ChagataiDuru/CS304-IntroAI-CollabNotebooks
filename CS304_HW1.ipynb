{
  "nbformat": 4,
  "nbformat_minor": 0,
  "metadata": {
    "colab": {
      "provenance": [],
      "include_colab_link": true
    },
    "kernelspec": {
      "name": "python3",
      "display_name": "Python 3"
    },
    "language_info": {
      "name": "python"
    }
  },
  "cells": [
    {
      "cell_type": "markdown",
      "metadata": {
        "id": "view-in-github",
        "colab_type": "text"
      },
      "source": [
        "<a href=\"https://colab.research.google.com/github/ChagataiDuru/CS304-IntroAI-CollabNotebooks/blob/main/CS304_HW1.ipynb\" target=\"_parent\"><img src=\"https://colab.research.google.com/assets/colab-badge.svg\" alt=\"Open In Colab\"/></a>"
      ]
    },
    {
      "cell_type": "markdown",
      "source": [
        "# Homework 1\n",
        "If you have any questions please send an email to the TA Ahmet Tavlı (ahmet.tavli@ozu.edu.tr) (Office hours: Monday 245A 16.00 - 18.00)"
      ],
      "metadata": {
        "id": "fJ6VKhyaYtFN"
      }
    },
    {
      "cell_type": "markdown",
      "source": [
        "# Step 1: Load and analyze the data"
      ],
      "metadata": {
        "id": "Y8leBJU3Y1j3"
      }
    },
    {
      "cell_type": "markdown",
      "source": [
        "## Step 1.a Load the two datasets ##"
      ],
      "metadata": {
        "id": "Jd98xnxdZLxo"
      }
    },
    {
      "cell_type": "code",
      "source": [
        "# First, let's check whether the training and the test files exist in our file.\n",
        "from os.path import exists\n",
        "import itertools as itertools\n",
        "\n",
        "import pandas as pd\n",
        "import matplotlib.pyplot as plt\n",
        "import numpy as np\n",
        "\n",
        "from google.colab import drive\n",
        "drive.mount('/content/drive')\n",
        "\n",
        "train_data = \"/content/drive/MyDrive/Colab Notebooks/CS304/HW1/titanictrain.csv\"\n",
        "test_data = \"/content/drive/MyDrive/Colab Notebooks/CS304/HW1/titanictest.csv\"\n",
        "\n",
        "# - Supress all warnings (Optional)\n",
        "import warnings\n",
        "warnings.simplefilter(action='ignore',\n",
        "                      category=FutureWarning)\n",
        "\n",
        "if exists(train_data) and exists(test_data):\n",
        "    print(f\"\\nBoth {train_data} and {test_data} exists.\")\n",
        "else:\n",
        "    print(\"Please set directory to read the files\")\n"
      ],
      "metadata": {
        "colab": {
          "base_uri": "https://localhost:8080/"
        },
        "id": "etgUS4qkZV_M",
        "outputId": "f9abf053-96de-4f5f-90ea-e31eaf13d6ff"
      },
      "execution_count": 1,
      "outputs": [
        {
          "output_type": "stream",
          "name": "stdout",
          "text": [
            "Drive already mounted at /content/drive; to attempt to forcibly remount, call drive.mount(\"/content/drive\", force_remount=True).\n",
            "\n",
            "Both /content/drive/MyDrive/Colab Notebooks/CS304/HW1/titanictrain.csv and /content/drive/MyDrive/Colab Notebooks/CS304/HW1/titanictest.csv exists.\n"
          ]
        }
      ]
    },
    {
      "cell_type": "code",
      "source": [
        "# Let's load the training and the test data and display their types.\n",
        "# Hint!: you can use the read_csv from pandas and type built-in method\n",
        "\n",
        "from pandas import read_csv\n",
        "\n",
        "#  Add your code here\n",
        "#  -------------------\n",
        "\n",
        "# Load the datasets\n",
        "train_df = read_csv(train_data)\n",
        "test_df = read_csv(test_data)\n",
        "#  -------------------\n"
      ],
      "metadata": {
        "id": "62Qrfxysc94Z"
      },
      "execution_count": 2,
      "outputs": []
    },
    {
      "cell_type": "markdown",
      "source": [
        "##Step 1.b Display the shape of both training and test data.##\n",
        "\n",
        "The shape of each data shows a summary of the dataset.\n",
        "\n",
        "For example, \"(890, 12)\" should be interpreted as 890 samples with ten features, where\n",
        "\n",
        "890 is the row size (or height of the data)\n",
        "12 is the column size (or width of the data)\n",
        "\n",
        "**Hint!**: You can use the shape method"
      ],
      "metadata": {
        "id": "VY4uYP36as9y"
      }
    },
    {
      "cell_type": "code",
      "source": [
        "#  Add your code here\n",
        "#  -------------------\n",
        "# Shapes of datasets\n",
        "print(\"Training set shape:\", train_df.shape)\n",
        "print(\"Test set shape:\", test_df.shape)\n",
        "#  ---------------------"
      ],
      "metadata": {
        "colab": {
          "base_uri": "https://localhost:8080/"
        },
        "id": "BVD10G-da5wq",
        "outputId": "fe3f2f75-db4f-4641-e4ea-3a4de7e9cb6c"
      },
      "execution_count": 3,
      "outputs": [
        {
          "output_type": "stream",
          "name": "stdout",
          "text": [
            "Training set shape: (891, 12)\n",
            "Test set shape: (418, 11)\n"
          ]
        }
      ]
    },
    {
      "cell_type": "markdown",
      "source": [
        "## Step 1.c Display the first five rows of training and test data ##"
      ],
      "metadata": {
        "id": "YhJBvWaVbOOP"
      }
    },
    {
      "cell_type": "code",
      "source": [
        "#  Add your code here to display training data\n",
        "#  -------------------\n",
        "print(\"\\nTraining set (first 5 rows):\\n\", train_df.head())\n",
        "#  -------------------"
      ],
      "metadata": {
        "colab": {
          "base_uri": "https://localhost:8080/"
        },
        "id": "I-UKcJbzbX7s",
        "outputId": "e9798a1c-03f2-4e24-9270-ed02a9b3dad0"
      },
      "execution_count": 4,
      "outputs": [
        {
          "output_type": "stream",
          "name": "stdout",
          "text": [
            "\n",
            "Training set (first 5 rows):\n",
            "    PassengerId  Survived  Pclass  \\\n",
            "0            1         0       3   \n",
            "1            2         1       1   \n",
            "2            3         1       3   \n",
            "3            4         1       1   \n",
            "4            5         0       3   \n",
            "\n",
            "                                                Name     Sex   Age  SibSp  \\\n",
            "0                            Braund, Mr. Owen Harris    male  22.0      1   \n",
            "1  Cumings, Mrs. John Bradley (Florence Briggs Th...  female  38.0      1   \n",
            "2                             Heikkinen, Miss. Laina  female  26.0      0   \n",
            "3       Futrelle, Mrs. Jacques Heath (Lily May Peel)  female  35.0      1   \n",
            "4                           Allen, Mr. William Henry    male  35.0      0   \n",
            "\n",
            "   Parch            Ticket     Fare Cabin Embarked  \n",
            "0      0         A/5 21171   7.2500   NaN        S  \n",
            "1      0          PC 17599  71.2833   C85        C  \n",
            "2      0  STON/O2. 3101282   7.9250   NaN        S  \n",
            "3      0            113803  53.1000  C123        S  \n",
            "4      0            373450   8.0500   NaN        S  \n"
          ]
        }
      ]
    },
    {
      "cell_type": "code",
      "source": [
        "#  Add your code here to display test data\n",
        "#  -------------------\n",
        "print(\"\\nTest set (first 5 rows):\\n\", test_df.head())\n",
        "#  -------------------"
      ],
      "metadata": {
        "colab": {
          "base_uri": "https://localhost:8080/"
        },
        "id": "0XsWGA9ScC7d",
        "outputId": "88358637-a63c-4f27-ce0c-bd917becb426"
      },
      "execution_count": 5,
      "outputs": [
        {
          "output_type": "stream",
          "name": "stdout",
          "text": [
            "\n",
            "Test set (first 5 rows):\n",
            "    PassengerId  Pclass                                          Name     Sex  \\\n",
            "0          892       3                              Kelly, Mr. James    male   \n",
            "1          893       3              Wilkes, Mrs. James (Ellen Needs)  female   \n",
            "2          894       2                     Myles, Mr. Thomas Francis    male   \n",
            "3          895       3                              Wirz, Mr. Albert    male   \n",
            "4          896       3  Hirvonen, Mrs. Alexander (Helga E Lindqvist)  female   \n",
            "\n",
            "    Age  SibSp  Parch   Ticket     Fare Cabin Embarked  \n",
            "0  34.5      0      0   330911   7.8292   NaN        Q  \n",
            "1  47.0      1      0   363272   7.0000   NaN        S  \n",
            "2  62.0      0      0   240276   9.6875   NaN        Q  \n",
            "3  27.0      0      0   315154   8.6625   NaN        S  \n",
            "4  22.0      1      1  3101298  12.2875   NaN        S  \n"
          ]
        }
      ]
    },
    {
      "cell_type": "markdown",
      "source": [
        "## Step 1.e Determine which column exists in the training set but is missing in the test set ##\n",
        "\n",
        "Training and test sets have different number of features (columns).\n",
        "\n",
        "In Step 1.b you saw that the traind_df has 12 columns bur test_df has 11 columns\n",
        "\n",
        "We need to find which column is missing in the test data.\n",
        "\n",
        "**Hint!**: You can access the features using keys method.\n",
        "\n",
        "**Hint!**: Iterate through the keys of training samples, and check if it is in the set of test features."
      ],
      "metadata": {
        "id": "wN1m7mFIcRnb"
      }
    },
    {
      "cell_type": "code",
      "source": [
        "#  Add your code here\n",
        "#  -------------------\n",
        "#  Missing column in test set\n",
        "missing_col = set(train_df.columns) - set(test_df.columns)\n",
        "print(\"\\nColumn missing in test set:\", missing_col)\n",
        "#  -------------------"
      ],
      "metadata": {
        "colab": {
          "base_uri": "https://localhost:8080/"
        },
        "id": "w65srsaRcp_X",
        "outputId": "7495158b-4859-47d4-c62a-2bab140eaf61"
      },
      "execution_count": 6,
      "outputs": [
        {
          "output_type": "stream",
          "name": "stdout",
          "text": [
            "\n",
            "Column missing in test set: {'Survived'}\n"
          ]
        }
      ]
    },
    {
      "cell_type": "markdown",
      "source": [
        "## Step 1.f Observe the datatype of each column using the .info() method ##"
      ],
      "metadata": {
        "id": "ZV1vKKICdkAb"
      }
    },
    {
      "cell_type": "code",
      "source": [
        "# inspect training data\n",
        "#  Add your code here\n",
        "#  -------------------\n",
        "#  Data types and summary statistics\n",
        "print(\"\\nTraining set info:\\n\", train_df.info())\n",
        "#  -------------------"
      ],
      "metadata": {
        "colab": {
          "base_uri": "https://localhost:8080/"
        },
        "id": "94fN05Npcb1D",
        "outputId": "40a7fdb0-14a7-4564-b438-6f7af9e0b9d6"
      },
      "execution_count": 7,
      "outputs": [
        {
          "output_type": "stream",
          "name": "stdout",
          "text": [
            "<class 'pandas.core.frame.DataFrame'>\n",
            "RangeIndex: 891 entries, 0 to 890\n",
            "Data columns (total 12 columns):\n",
            " #   Column       Non-Null Count  Dtype  \n",
            "---  ------       --------------  -----  \n",
            " 0   PassengerId  891 non-null    int64  \n",
            " 1   Survived     891 non-null    int64  \n",
            " 2   Pclass       891 non-null    int64  \n",
            " 3   Name         891 non-null    object \n",
            " 4   Sex          891 non-null    object \n",
            " 5   Age          714 non-null    float64\n",
            " 6   SibSp        891 non-null    int64  \n",
            " 7   Parch        891 non-null    int64  \n",
            " 8   Ticket       891 non-null    object \n",
            " 9   Fare         891 non-null    float64\n",
            " 10  Cabin        204 non-null    object \n",
            " 11  Embarked     889 non-null    object \n",
            "dtypes: float64(2), int64(5), object(5)\n",
            "memory usage: 83.7+ KB\n",
            "\n",
            "Training set info:\n",
            " None\n"
          ]
        }
      ]
    },
    {
      "cell_type": "code",
      "source": [
        "# describe the statistics of numerical attribures of training set\n",
        "#  Add your code here\n",
        "#  -------------------\n",
        "print(\"\\nTraining set numerical descriptions:\\n\", train_df.describe())\n",
        "#  -------------------"
      ],
      "metadata": {
        "colab": {
          "base_uri": "https://localhost:8080/"
        },
        "id": "_cTgOXSp4Bpg",
        "outputId": "db7752c8-1633-4d5e-9da7-7e0076d02efa"
      },
      "execution_count": 8,
      "outputs": [
        {
          "output_type": "stream",
          "name": "stdout",
          "text": [
            "\n",
            "Training set numerical descriptions:\n",
            "        PassengerId    Survived      Pclass         Age       SibSp  \\\n",
            "count   891.000000  891.000000  891.000000  714.000000  891.000000   \n",
            "mean    446.000000    0.383838    2.308642   29.699118    0.523008   \n",
            "std     257.353842    0.486592    0.836071   14.526497    1.102743   \n",
            "min       1.000000    0.000000    1.000000    0.420000    0.000000   \n",
            "25%     223.500000    0.000000    2.000000   20.125000    0.000000   \n",
            "50%     446.000000    0.000000    3.000000   28.000000    0.000000   \n",
            "75%     668.500000    1.000000    3.000000   38.000000    1.000000   \n",
            "max     891.000000    1.000000    3.000000   80.000000    8.000000   \n",
            "\n",
            "            Parch        Fare  \n",
            "count  891.000000  891.000000  \n",
            "mean     0.381594   32.204208  \n",
            "std      0.806057   49.693429  \n",
            "min      0.000000    0.000000  \n",
            "25%      0.000000    7.910400  \n",
            "50%      0.000000   14.454200  \n",
            "75%      0.000000   31.000000  \n",
            "max      6.000000  512.329200  \n"
          ]
        }
      ]
    },
    {
      "cell_type": "code",
      "source": [
        "# inspect test data\n",
        "#  Add your code here\n",
        "#  -------------------\n",
        "print(\"\\Test set info:\\n\", test_df.info())\n",
        "#  -------------------"
      ],
      "metadata": {
        "colab": {
          "base_uri": "https://localhost:8080/"
        },
        "id": "HqZrrtdSeFVF",
        "outputId": "ba8b8958-68a7-4437-a06e-be41e56f083b"
      },
      "execution_count": 9,
      "outputs": [
        {
          "output_type": "stream",
          "name": "stdout",
          "text": [
            "<class 'pandas.core.frame.DataFrame'>\n",
            "RangeIndex: 418 entries, 0 to 417\n",
            "Data columns (total 11 columns):\n",
            " #   Column       Non-Null Count  Dtype  \n",
            "---  ------       --------------  -----  \n",
            " 0   PassengerId  418 non-null    int64  \n",
            " 1   Pclass       418 non-null    int64  \n",
            " 2   Name         418 non-null    object \n",
            " 3   Sex          418 non-null    object \n",
            " 4   Age          332 non-null    float64\n",
            " 5   SibSp        418 non-null    int64  \n",
            " 6   Parch        418 non-null    int64  \n",
            " 7   Ticket       418 non-null    object \n",
            " 8   Fare         417 non-null    float64\n",
            " 9   Cabin        91 non-null     object \n",
            " 10  Embarked     418 non-null    object \n",
            "dtypes: float64(2), int64(4), object(5)\n",
            "memory usage: 36.0+ KB\n",
            "\\Test set info:\n",
            " None\n"
          ]
        }
      ]
    },
    {
      "cell_type": "markdown",
      "source": [
        "[link text](https://)## Step 1.g. Determine the number and percentage of passengers who survived. ##"
      ],
      "metadata": {
        "id": "VaxTo5w95NCV"
      }
    },
    {
      "cell_type": "code",
      "source": [
        "#  Add your code here\n",
        "#  -------------------\n",
        "#  Survival statistics\n",
        "survived = train_df['Survived'].value_counts()\n",
        "percent_survived = survived[1] / len(train_df) * 100\n",
        "\n",
        "print(\"\\nNumber of survived passengers:\", survived[1])\n",
        "print(\"Percentage of survived passengers:\", percent_survived)\n",
        "\n",
        "#  -------------------"
      ],
      "metadata": {
        "id": "WuQh3eYg5bPL",
        "colab": {
          "base_uri": "https://localhost:8080/"
        },
        "outputId": "98086a27-ef20-4227-d2f4-5129f2408ae4"
      },
      "execution_count": 10,
      "outputs": [
        {
          "output_type": "stream",
          "name": "stdout",
          "text": [
            "\n",
            "Number of survived passengers: 342\n",
            "Percentage of survived passengers: 38.38383838383838\n"
          ]
        }
      ]
    },
    {
      "cell_type": "markdown",
      "source": [
        "\n",
        "# Step 2: Prepare the data for classification #"
      ],
      "metadata": {
        "id": "g6um65U-eOAm"
      }
    },
    {
      "cell_type": "markdown",
      "source": [
        "## Step 2.a Extract the target label (i.e. \"Survived\") from the training set and assign it to the variable \"y_train\" ##"
      ],
      "metadata": {
        "id": "X-sKWApUerYV"
      }
    },
    {
      "cell_type": "code",
      "source": [
        "#  Add your code here\n",
        "#  -------------------\n",
        "y_train = train_df[\"Survived\"]\n",
        "#  -------------------"
      ],
      "metadata": {
        "id": "29j5V3vBeZO5"
      },
      "execution_count": 11,
      "outputs": []
    },
    {
      "cell_type": "markdown",
      "source": [
        "## Step 2.b Copy the columns \"Pclass\",\"Sex\", \"Age\", \"Fare\" to a new dataframe##\n",
        "\n",
        "Name the new dataframe as x_train\n",
        "Display the top 5 rows of x_train"
      ],
      "metadata": {
        "id": "sdUZ9oO-elxu"
      }
    },
    {
      "cell_type": "code",
      "source": [
        "#  Add your code here\n",
        "#  -------------------\n",
        "features = [\"Pclass\", \"Sex\", \"Age\", \"Fare\"]\n",
        "X_train = train_df[features]\n",
        "#  -------------------"
      ],
      "metadata": {
        "id": "Wp2EB79zhDFS"
      },
      "execution_count": 12,
      "outputs": []
    },
    {
      "cell_type": "markdown",
      "source": [
        "## Step 2.c Add a new feature \"FamilySize\" ##\n",
        "\n",
        "\"Sibsp\" and \"Parch\" features are related.\n",
        "\n",
        "Instead of using them separately, we can use their sum as a feature.\n",
        "\n",
        "**Hint!**: We can add the sum as a new column to the new data frame object as new_df['FamilySize'] = Sibsp + Parch\n",
        "\n",
        "**Hint!:** We can also limit the sum so that it does not exceed 4. (For this purpose one option is use the apply method.)\n",
        "\n",
        "Display the first five rows of x_train"
      ],
      "metadata": {
        "id": "lvyUaPeYiV5n"
      }
    },
    {
      "cell_type": "code",
      "source": [
        "#  Add your code here\n",
        "#  -------------------\n",
        "X_train[\"FamilySize\"] = train_df[\"SibSp\"] + train_df[\"Parch\"]\n",
        "X_train[\"FamilySize\"] = X_train[\"FamilySize\"].clip(upper=4)  # Limit family size to 4\n",
        "#  -------------------"
      ],
      "metadata": {
        "colab": {
          "base_uri": "https://localhost:8080/"
        },
        "id": "Yo9p6R_cied4",
        "outputId": "3554f043-8ef8-47f5-d0f2-5505cdf04b57"
      },
      "execution_count": 13,
      "outputs": [
        {
          "output_type": "stream",
          "name": "stderr",
          "text": [
            "<ipython-input-13-048a2f32aba9>:3: SettingWithCopyWarning: \n",
            "A value is trying to be set on a copy of a slice from a DataFrame.\n",
            "Try using .loc[row_indexer,col_indexer] = value instead\n",
            "\n",
            "See the caveats in the documentation: https://pandas.pydata.org/pandas-docs/stable/user_guide/indexing.html#returning-a-view-versus-a-copy\n",
            "  X_train[\"FamilySize\"] = train_df[\"SibSp\"] + train_df[\"Parch\"]\n",
            "<ipython-input-13-048a2f32aba9>:4: SettingWithCopyWarning: \n",
            "A value is trying to be set on a copy of a slice from a DataFrame.\n",
            "Try using .loc[row_indexer,col_indexer] = value instead\n",
            "\n",
            "See the caveats in the documentation: https://pandas.pydata.org/pandas-docs/stable/user_guide/indexing.html#returning-a-view-versus-a-copy\n",
            "  X_train[\"FamilySize\"] = X_train[\"FamilySize\"].clip(upper=4)  # Limit family size to 4\n"
          ]
        }
      ]
    },
    {
      "cell_type": "markdown",
      "source": [
        "## Step 2.g. Use a pipeline to implement Steps 2.d,e,f. OR implement them one-by-one. ##  "
      ],
      "metadata": {
        "id": "J2CNoc_5pCvJ"
      }
    },
    {
      "cell_type": "code",
      "source": [
        "#  Add your code here\n",
        "#  -------------------\n",
        "from sklearn.preprocessing import LabelEncoder\n",
        "le = LabelEncoder()\n",
        "X_train['Sex'] = le.fit_transform(X_train['Sex'])\n",
        "print(X_train.head())\n",
        "# ------Impute Part------\n",
        "from sklearn.impute import SimpleImputer\n",
        "#imputer = SimpleImputer( strategy='median')\n",
        "#X_train_imputed_median = X_train.copy()\n",
        "#X_train_imputed_median[['Age', 'Fare']] = imputer.fit_transform(X_train[['Age', 'Fare']])\n",
        "#print(\"Imputed Median\")\n",
        "#print(X_train_imputed_median.head())\n",
        "\n",
        "\n",
        "#imputer = SimpleImputer( strategy='constant', fill_value=0)\n",
        "#X_train_imputed_constant = X_train.copy()\n",
        "#X_train_imputed_constant[['Age', 'Fare']] = imputer.fit_transform(X_train[['Age', 'Fare']])\n",
        "#print(\"Imputed Constant\")\n",
        "#print(X_train_imputed_constant.head())\n",
        "\n",
        "def impute_by_group(df, column):\n",
        "    \"\"\"Imputes missing values in a column based on 'Sex' and 'Pclass' group means\"\"\"\n",
        "    group_means = df.groupby(['Sex', 'Pclass'])[column].mean()\n",
        "\n",
        "    def fill_missing(row):\n",
        "        sex = row['Sex']\n",
        "        pclass = row['Pclass']\n",
        "        if pd.isna(row[column]):\n",
        "            return group_means.loc[sex, pclass]\n",
        "        else:\n",
        "            return row[column]\n",
        "\n",
        "    df[column] = df.apply(fill_missing, axis=1)\n",
        "\n",
        "impute_by_group(X_train, 'Age')\n",
        "impute_by_group(X_train, 'Fare')\n",
        "\n",
        "print(\"Imputed by Group\")\n",
        "print(X_train.head())\n",
        "\n",
        "from sklearn.preprocessing import MinMaxScaler\n",
        "scaler = MinMaxScaler()\n",
        "columns_to_scale = ['Age', 'Fare']\n",
        "X_train[columns_to_scale] = scaler.fit_transform(X_train[columns_to_scale])\n",
        "print(X_train.describe())\n",
        "\n",
        "#  -------------------"
      ],
      "metadata": {
        "id": "BUXsVpwIlnKe",
        "colab": {
          "base_uri": "https://localhost:8080/"
        },
        "outputId": "afb61d61-5dac-4f0c-d0d6-d10ed7708212"
      },
      "execution_count": 14,
      "outputs": [
        {
          "output_type": "stream",
          "name": "stdout",
          "text": [
            "   Pclass  Sex   Age     Fare  FamilySize\n",
            "0       3    1  22.0   7.2500           1\n",
            "1       1    0  38.0  71.2833           1\n",
            "2       3    0  26.0   7.9250           0\n",
            "3       1    0  35.0  53.1000           1\n",
            "4       3    1  35.0   8.0500           0\n",
            "Imputed by Group\n",
            "   Pclass  Sex   Age     Fare  FamilySize\n",
            "0       3    1  22.0   7.2500           1\n",
            "1       1    0  38.0  71.2833           1\n",
            "2       3    0  26.0   7.9250           0\n",
            "3       1    0  35.0  53.1000           1\n",
            "4       3    1  35.0   8.0500           0\n",
            "           Pclass         Sex         Age        Fare  FamilySize\n",
            "count  891.000000  891.000000  891.000000  891.000000  891.000000\n",
            "mean     2.308642    0.647587    0.363140    0.062858    0.785634\n",
            "std      0.836071    0.477990    0.166890    0.096995    1.195524\n",
            "min      1.000000    0.000000    0.000000    0.000000    0.000000\n",
            "25%      2.000000    0.000000    0.268032    0.015440    0.000000\n",
            "50%      3.000000    1.000000    0.327816    0.028213    0.000000\n",
            "75%      3.000000    1.000000    0.447097    0.060508    1.000000\n",
            "max      3.000000    1.000000    1.000000    1.000000    4.000000\n"
          ]
        },
        {
          "output_type": "stream",
          "name": "stderr",
          "text": [
            "<ipython-input-14-9c80eeeed9ec>:5: SettingWithCopyWarning: \n",
            "A value is trying to be set on a copy of a slice from a DataFrame.\n",
            "Try using .loc[row_indexer,col_indexer] = value instead\n",
            "\n",
            "See the caveats in the documentation: https://pandas.pydata.org/pandas-docs/stable/user_guide/indexing.html#returning-a-view-versus-a-copy\n",
            "  X_train['Sex'] = le.fit_transform(X_train['Sex'])\n",
            "<ipython-input-14-9c80eeeed9ec>:34: SettingWithCopyWarning: \n",
            "A value is trying to be set on a copy of a slice from a DataFrame.\n",
            "Try using .loc[row_indexer,col_indexer] = value instead\n",
            "\n",
            "See the caveats in the documentation: https://pandas.pydata.org/pandas-docs/stable/user_guide/indexing.html#returning-a-view-versus-a-copy\n",
            "  df[column] = df.apply(fill_missing, axis=1)\n",
            "<ipython-input-14-9c80eeeed9ec>:34: SettingWithCopyWarning: \n",
            "A value is trying to be set on a copy of a slice from a DataFrame.\n",
            "Try using .loc[row_indexer,col_indexer] = value instead\n",
            "\n",
            "See the caveats in the documentation: https://pandas.pydata.org/pandas-docs/stable/user_guide/indexing.html#returning-a-view-versus-a-copy\n",
            "  df[column] = df.apply(fill_missing, axis=1)\n",
            "<ipython-input-14-9c80eeeed9ec>:45: SettingWithCopyWarning: \n",
            "A value is trying to be set on a copy of a slice from a DataFrame.\n",
            "Try using .loc[row_indexer,col_indexer] = value instead\n",
            "\n",
            "See the caveats in the documentation: https://pandas.pydata.org/pandas-docs/stable/user_guide/indexing.html#returning-a-view-versus-a-copy\n",
            "  X_train[columns_to_scale] = scaler.fit_transform(X_train[columns_to_scale])\n"
          ]
        }
      ]
    },
    {
      "cell_type": "markdown",
      "source": [
        "# Step 3: Train two different ML models and compare their accuracies #"
      ],
      "metadata": {
        "id": "FT78fCPrqHkt"
      }
    },
    {
      "cell_type": "markdown",
      "source": [
        "## Step 3.a Split into training and test set, ratio: 80/20 ##"
      ],
      "metadata": {
        "id": "kTtxb5WZqO-l"
      }
    },
    {
      "cell_type": "code",
      "source": [
        "from sklearn.model_selection import train_test_split\n",
        "\n",
        "#  Add your code here\n",
        "#  -------------------\n",
        "X_train_split, X_test_split, y_train_split, y_test_split = train_test_split(X_train, y_train, test_size=0.2, random_state=42)\n",
        "#  -------------------"
      ],
      "metadata": {
        "id": "5zbrzcrQqAlS"
      },
      "execution_count": 15,
      "outputs": []
    },
    {
      "cell_type": "markdown",
      "source": [],
      "metadata": {
        "id": "68rT6jJy0ltg"
      }
    },
    {
      "cell_type": "markdown",
      "source": [
        "## Step 3.b Train a logistic regression classifier and test the accuracy ##"
      ],
      "metadata": {
        "id": "s7AyGkXUrIYY"
      }
    },
    {
      "cell_type": "code",
      "source": [
        "from sklearn.linear_model import LogisticRegression\n",
        "from sklearn.metrics import accuracy_score\n",
        "\n",
        "#  Add your code here\n",
        "#  -------------------\n",
        "log_reg = LogisticRegression()\n",
        "log_reg.fit(X_train_split, y_train_split)\n",
        "y_pred_lr = log_reg.predict(X_test_split)\n",
        "\n",
        "\n",
        "accuracy_lr = accuracy_score(y_test_split, y_pred_lr)\n",
        "print(\"Logistic Regression Accuracy:\", accuracy_lr)\n",
        "\n",
        "#  -------------------"
      ],
      "metadata": {
        "id": "N4tjDGoYrPJf",
        "colab": {
          "base_uri": "https://localhost:8080/"
        },
        "outputId": "6eab2dde-ed3c-4a95-a4f1-9ab7323243c5"
      },
      "execution_count": 16,
      "outputs": [
        {
          "output_type": "stream",
          "name": "stdout",
          "text": [
            "Logistic Regression Accuracy: 0.8044692737430168\n"
          ]
        }
      ]
    },
    {
      "cell_type": "markdown",
      "source": [
        "## Step 3.c Train a random forest classifier and test the accuracy ##"
      ],
      "metadata": {
        "id": "hyEBWWcoyQbt"
      }
    },
    {
      "cell_type": "code",
      "source": [
        "from sklearn.ensemble import RandomForestClassifier\n",
        "from numpy import ravel\n",
        "\n",
        "#  Add your code here\n",
        "#  -------------------\n",
        "\n",
        "rf_model = RandomForestClassifier()\n",
        "rf_model.fit(X_train_split, y_train_split)\n",
        "y_pred_rf = rf_model.predict(X_test_split)\n",
        "\n",
        "accuracy_rf = accuracy_score(y_test_split, y_pred_rf)\n",
        "print(\"Random Forest Accuracy:\", accuracy_rf)\n",
        "\n",
        "\n",
        "#  -------------------"
      ],
      "metadata": {
        "id": "4dHYO6TZyUY0",
        "colab": {
          "base_uri": "https://localhost:8080/"
        },
        "outputId": "3f3f10a9-90b0-46c0-a942-fda661195ecb"
      },
      "execution_count": 17,
      "outputs": [
        {
          "output_type": "stream",
          "name": "stdout",
          "text": [
            "Random Forest Accuracy: 0.8100558659217877\n"
          ]
        }
      ]
    },
    {
      "cell_type": "markdown",
      "source": [],
      "metadata": {
        "id": "Gy6Eu67DF7ae"
      }
    },
    {
      "cell_type": "markdown",
      "source": [
        "## Step 3.d Train a logistic regression classifier using 5-fold cross validation. ##"
      ],
      "metadata": {
        "id": "Ke6jxkIaoukw"
      }
    },
    {
      "cell_type": "code",
      "source": [
        "from sklearn.model_selection import cross_val_score\n",
        "\n",
        "#  Add your code here\n",
        "#  -------------------\n",
        "\n",
        "# Logistic Regression with Cross-Validation\n",
        "scores_lr = cross_val_score(log_reg, X_train, y_train, cv=5, scoring='accuracy')\n",
        "print(\"Logistic Regression Cross-Validation Mean Accuracy:\", scores_lr.mean())\n",
        "print(\"Logistic Regression Cross-validation Standard Deviation:\", scores_lr.std())\n",
        "#  -------------------"
      ],
      "metadata": {
        "id": "7BHv1aWto37M",
        "colab": {
          "base_uri": "https://localhost:8080/"
        },
        "outputId": "2e5feb46-5eb9-4bf6-ab68-a880559d4f74"
      },
      "execution_count": 18,
      "outputs": [
        {
          "output_type": "stream",
          "name": "stdout",
          "text": [
            "Logistic Regression Cross-Validation Mean Accuracy: 0.797991337643588\n",
            "Logistic Regression Cross-validation Standard Deviation: 0.014473657292747365\n"
          ]
        }
      ]
    },
    {
      "cell_type": "markdown",
      "source": [
        "## Step 3.e Train a random forest classifier using 5-fold cross validation."
      ],
      "metadata": {
        "id": "ItJWPpvkrATp"
      }
    },
    {
      "cell_type": "code",
      "source": [
        "#  Add your code here\n",
        "#  -------------------\n",
        "\n",
        "# Random Forest with Cross-Validation\n",
        "scores_rf = cross_val_score(rf_model, X_train, y_train, cv=5, scoring='accuracy')\n",
        "print(\"Random Forest Cross-Validation Mean Accuracy:\", scores_rf.mean())\n",
        "print(\"Random Forest Cross-validation Standard Deviation:\", scores_rf.std())\n",
        "\n",
        "#  -------------------"
      ],
      "metadata": {
        "id": "pizUclZvq_RW",
        "colab": {
          "base_uri": "https://localhost:8080/"
        },
        "outputId": "a86448f7-7eda-4c97-8741-622011052d8c"
      },
      "execution_count": 19,
      "outputs": [
        {
          "output_type": "stream",
          "name": "stdout",
          "text": [
            "Random Forest Cross-Validation Mean Accuracy: 0.8159751428033394\n",
            "Random Forest Cross-validation Standard Deviation: 0.027075656084614177\n"
          ]
        }
      ]
    },
    {
      "cell_type": "markdown",
      "source": [
        "## Step 3.f Inspect the confusion matrices of the two classifiers ##"
      ],
      "metadata": {
        "id": "UvEto6q3uqco"
      }
    },
    {
      "cell_type": "code",
      "source": [
        "from sklearn.model_selection import cross_val_predict\n",
        "from sklearn.metrics import confusion_matrix, ConfusionMatrixDisplay, auc\n",
        "\n",
        "#  Add your code  here\n",
        "#  -------------------\n",
        "\n",
        "cm_lr = confusion_matrix(y_test_split, y_pred_lr)\n",
        "cm_rf = confusion_matrix(y_test_split, y_pred_rf)\n",
        "\n",
        "# Plot confusion matrix for Logistic Regression\n",
        "plt.imshow(cm_lr, interpolation='nearest', cmap=plt.cm.Blues)\n",
        "plt.title('Confusion Matrix - Logistic Regression')\n",
        "plt.colorbar()\n",
        "tick_marks = np.arange(2)\n",
        "plt.xticks(tick_marks, ['Not Survived', 'Survived'], rotation=45)\n",
        "plt.yticks(tick_marks, ['Not Survived', 'Survived'])\n",
        "\n",
        "thresh = cm_lr.max() / 2.\n",
        "for i, j in itertools.product(range(cm_lr.shape[0]), range(cm_lr.shape[1])):\n",
        "    plt.text(j, i, cm_lr[i, j],\n",
        "             horizontalalignment=\"center\",\n",
        "             color=\"white\" if cm_lr[i, j] > thresh else \"black\")\n",
        "\n",
        "plt.tight_layout()\n",
        "plt.ylabel('True label')\n",
        "plt.xlabel('Predicted label')\n",
        "\n",
        "plt.show()\n",
        "\n",
        "# Plot confusion matrix for Random Forest\n",
        "plt.imshow(cm_rf, interpolation='nearest', cmap=plt.cm.Blues)\n",
        "plt.title('Confusion Matrix - Random Forest')\n",
        "plt.colorbar()\n",
        "tick_marks = np.arange(2)\n",
        "plt.xticks(tick_marks, ['Not Survived', 'Survived'], rotation=45)\n",
        "plt.yticks(tick_marks, ['Not Survived', 'Survived'])\n",
        "\n",
        "thresh = cm_rf.max() / 2.\n",
        "for i, j in itertools.product(range(cm_rf.shape[0]), range(cm_rf.shape[1])):\n",
        "    plt.text(j, i, cm_rf[i, j],\n",
        "             horizontalalignment=\"center\",\n",
        "             color=\"white\" if cm_rf[i, j] > thresh else \"black\")\n",
        "\n",
        "plt.tight_layout()\n",
        "plt.ylabel('True label')\n",
        "plt.xlabel('Predicted label')\n",
        "\n",
        "plt.show()\n",
        "\n",
        "#  -------------------"
      ],
      "metadata": {
        "id": "DGOv-w-Ruw8-",
        "colab": {
          "base_uri": "https://localhost:8080/",
          "height": 995
        },
        "outputId": "fd9b89e7-046c-49a6-d0ab-d69ea301a8c1"
      },
      "execution_count": 20,
      "outputs": [
        {
          "output_type": "display_data",
          "data": {
            "text/plain": [
              "<Figure size 640x480 with 2 Axes>"
            ],
            "image/png": "[encoded data removed]"
          },
          "metadata": {}
        },
        {
          "output_type": "display_data",
          "data": {
            "text/plain": [
              "<Figure size 640x480 with 2 Axes>"
            ],
            "image/png": "[encoded data removed]"
          },
          "metadata": {}
        }
      ]
    },
    {
      "cell_type": "markdown",
      "source": [
        "## Step 3.g Calculate the precision and recall scores of the two classifiers ##"
      ],
      "metadata": {
        "id": "-fC1TyNPzZ4o"
      }
    },
    {
      "cell_type": "code",
      "source": [
        "from sklearn.metrics import precision_score, recall_score, f1_score\n",
        "\n",
        "#  Add your code  here\n",
        "#  -------------------\n",
        "print(\"Logistic Regression:\")\n",
        "print(\"Precision:\", precision_score(y_test_split, y_pred_lr))\n",
        "print(\"Recall:\", recall_score(y_test_split, y_pred_lr))\n",
        "print(\"F1-Score:\", f1_score(y_test_split, y_pred_lr))\n",
        "\n",
        "print(\"\\nRandom Forest:\")\n",
        "print(\"Precision:\", precision_score(y_test_split, y_pred_rf))\n",
        "print(\"Recall:\", recall_score(y_test_split, y_pred_rf))\n",
        "print(\"F1-Score:\", f1_score(y_test_split, y_pred_rf))\n",
        "#  -------------------"
      ],
      "metadata": {
        "id": "9MgpqMFqzmcf",
        "colab": {
          "base_uri": "https://localhost:8080/"
        },
        "outputId": "eaf1e0d7-3b4b-44eb-cefb-4d830d319585"
      },
      "execution_count": 21,
      "outputs": [
        {
          "output_type": "stream",
          "name": "stdout",
          "text": [
            "Logistic Regression:\n",
            "Precision: 0.8\n",
            "Recall: 0.7027027027027027\n",
            "F1-Score: 0.7482014388489208\n",
            "\n",
            "Random Forest:\n",
            "Precision: 0.7857142857142857\n",
            "Recall: 0.7432432432432432\n",
            "F1-Score: 0.7638888888888888\n"
          ]
        }
      ]
    },
    {
      "cell_type": "markdown",
      "source": [
        "## Step 3.h Draw the precision-recall curves of the two classifiers. ##"
      ],
      "metadata": {
        "id": "jEk3IR6o8SJJ"
      }
    },
    {
      "cell_type": "code",
      "source": [
        "from sklearn.metrics import precision_recall_curve\n",
        "\n",
        "#  Add your code  here\n",
        "#  -------------------\n",
        "\n",
        "precision_lr, recall_lr, _ = precision_recall_curve(y_test_split, y_pred_lr)\n",
        "precision_rf, recall_rf, _ = precision_recall_curve(y_test_split, y_pred_rf)\n",
        "\n",
        "plt.plot(recall_lr, precision_lr, color='blue', linestyle='-', label='Logistic Regression')\n",
        "plt.plot(recall_rf, precision_rf, color='navy', linestyle='--', label='Random Forest')\n",
        "\n",
        "# Set plot attributes\n",
        "plt.xlabel('Recall')\n",
        "plt.ylabel('Precision')\n",
        "plt.ylim([0.0, 1.05])\n",
        "plt.xlim([0.0, 1.0])\n",
        "plt.title('Precision-Recall Curve')\n",
        "plt.legend(loc='lower left')\n",
        "plt.show()\n",
        "#  -------------------"
      ],
      "metadata": {
        "id": "I_f02CRh1_wh",
        "colab": {
          "base_uri": "https://localhost:8080/",
          "height": 472
        },
        "outputId": "84a996f9-d8d5-4da6-89e9-d1ad3c07f777"
      },
      "execution_count": 22,
      "outputs": [
        {
          "output_type": "display_data",
          "data": {
            "text/plain": [
              "<Figure size 640x480 with 1 Axes>"
            ],
            "image/png": "[encoded data removed]"
          },
          "metadata": {}
        }
      ]
    },
    {
      "cell_type": "markdown",
      "source": [
        "## Step 3.h. Draw the ROC curves for the two classifiers and comment. ##"
      ],
      "metadata": {
        "id": "hYOlwfNL1TOl"
      }
    },
    {
      "cell_type": "code",
      "source": [
        "from sklearn.metrics import roc_curve\n",
        "\n",
        "#  Add your code  here\n",
        "#  -------------------\n",
        "\n",
        "# Calculate ROC curve and AUC for Logistic Regression\n",
        "fpr_lr, tpr_lr, _ = roc_curve(y_test_split, y_pred_lr)\n",
        "roc_auc_lr = auc(fpr_lr, tpr_lr)\n",
        "\n",
        "# Calculate ROC curve and AUC for Random Forest\n",
        "fpr_rf, tpr_rf, _ = roc_curve(y_test_split, y_pred_rf)\n",
        "roc_auc_rf = auc(fpr_rf, tpr_rf)\n",
        "\n",
        "# Plot ROC curve for Logistic Regression\n",
        "lw = 1\n",
        "plt.plot(fpr_lr, tpr_lr, color='blue', lw=lw, linestyle='-', label='Logistic Regression (area = %0.2f)' % roc_auc_lr)\n",
        "\n",
        "# Plot ROC curve for Random Forest\n",
        "plt.plot(fpr_rf, tpr_rf, color='blue', lw=lw, linestyle='--', label='Random Forest (area = %0.2f)' % roc_auc_rf)\n",
        "\n",
        "# Plot the random guessing line\n",
        "plt.plot([0, 1], [0, 1], color='navy', lw=lw, linestyle='--')\n",
        "\n",
        "# Set plot attributes\n",
        "plt.xlim([0.0, 1.0])\n",
        "plt.ylim([0.0, 1.0])\n",
        "plt.xlabel('False Positive Rate (Recall)')\n",
        "plt.ylabel('True Positive Rate (Fall-Out)')\n",
        "plt.legend(loc=\"lower right\")\n",
        "plt.grid(True)\n",
        "plt.show()\n",
        "\n",
        "#  -------------------"
      ],
      "metadata": {
        "id": "xLFzcUQG1kjq",
        "colab": {
          "base_uri": "https://localhost:8080/",
          "height": 455
        },
        "outputId": "d9b1089b-3a80-494f-ae08-06970a798068"
      },
      "execution_count": 23,
      "outputs": [
        {
          "output_type": "display_data",
          "data": {
            "text/plain": [
              "<Figure size 640x480 with 1 Axes>"
            ],
            "image/png": "[encoded data removed]"
          },
          "metadata": {}
        }
      ]
    },
    {
      "cell_type": "markdown",
      "source": [
        "## Step 4 Comments ##\n",
        "a. Which classifiers gave better results? Explain\n",
        "\n",
        "Even though Random Forest is slightly more accurate than other algorithm, it's important to weigh the trade-off between recall and precision. With a precision of 0.8, the Logistic Regression model shows less false positives, or the prediction that someone would survive when they did not. A higher recall (0.74) in the Random Forest model indicates that more true positives—those who survived—were accurately identified. Depending on whatever metric is prioritized in this specific application, there may be differences in the best model selection.\n",
        "\n",
        "b. Which data imputation method gave better results?\n",
        "\n",
        "From My tests Using grouping by mean and scaling features MinMaxScaler gave the better result than giving constant zeros or Standar impute with median.\n",
        "\n",
        "c. How can you further improve the performance?\n",
        "\n",
        "Hyperparameter Fine Tuning:\n",
        "  Logistic Regression: Experiment with regularization parameters (C in LogisticRegression) to control overfitting.\n",
        "  Random Forest: Fine-tune parameters like n_estimators (number of trees), max_depth (tree depth), min_samples_split, and min_samples_leaf.\n",
        "\n",
        "Creating New Features: Generate new features based on preexisting ones (e.g., build a feature that depicts family relationships, extract titles from names).\n"
      ],
      "metadata": {
        "id": "uRapX1XeyxJe"
      }
    },
    {
      "cell_type": "code",
      "source": [],
      "metadata": {
        "id": "VmuEvw1d2Ujm"
      },
      "execution_count": 23,
      "outputs": []
    }
  ]
}